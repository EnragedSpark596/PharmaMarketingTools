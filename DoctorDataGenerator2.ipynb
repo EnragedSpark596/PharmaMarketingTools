{
 "cells": [
  {
   "cell_type": "code",
   "execution_count": null,
   "metadata": {},
   "outputs": [],
   "source": [
    "\"\"\"\n",
    "The purpose of this module is to create a dataset of doctor data that mimics what we might expect to find\n",
    "among out client's databases. The content can then be used to trial analysis methods and generate example dashboard\n",
    "outpts to showcase the kind of data analytics we can offer.\n",
    "\"\"\""
   ]
  },
  {
   "cell_type": "code",
   "execution_count": 38,
   "metadata": {},
   "outputs": [],
   "source": [
    "import random as rn\n",
    "import pandas as pd\n",
    "from pandas import Series, DataFrame"
   ]
  },
  {
   "cell_type": "code",
   "execution_count": 34,
   "metadata": {},
   "outputs": [],
   "source": [
    "# dataframes / lookup tables\n",
    "\n",
    "# Number of doctors in each state - input to assumption that all practices in any state have the same ratio\n",
    "dfDrByState1 = pd.read_csv('DoctorsByState3.csv')\n",
    "global dfDrByState1\n",
    "dfDrByState2 = dfDrByState1.set_index('Place')\n",
    "global dfDrByState2\n",
    "\n",
    "# Insurance coverage in each state - input to assumption that all practices in any state have the same ratio\n",
    "# https://www.kff.org/other/state-indicator/total-population\n",
    "# determines what patient coverages are for practice based on state data\n",
    "df2 = pd.read_csv('InsuranceCoverage2017v3.csv')\n",
    "dfCoverageByState = df2.set_index('Location')\n",
    "global dfCoverageByState"
   ]
  },
  {
   "cell_type": "code",
   "execution_count": 39,
   "metadata": {},
   "outputs": [],
   "source": [
    "# Functions\n",
    "\n",
    "# selector - made up shit: Doctor's age is indicative of how likely they are to prescribe Drug X\n",
    "def DrAge():\n",
    "    lower = 30\n",
    "    upper= 70\n",
    "    return rn.randint(lower,upper)\n",
    "\n",
    "# selector - made up shit: Doctor's gender is indicative of how likely they are to prescribe Drug X\n",
    "def DrGender():\n",
    "    genderChoices = ['Male','Female']\n",
    "    numGenderChoices = 1\n",
    "    return rn.choices(genderChoices,k=numGenderChoices)[0]\n",
    "\n",
    "# Journal of Medical Regulation Vol. 103 , No. 2 - A Census of Actively Licensed Physicians in the United States, 2016, Young et al\n",
    "# this uses the number of doctors in state as a weighting for how likely the random doctor will be located in any particular US state\n",
    "def DrLocationSelector():\n",
    "#    doctorLocationChoices = dfDrByState2['Place']\n",
    "    doctorLocationChoices = dfDrByState1['Place']\n",
    "    doctorLocationFrequency = dfDrByState2['#Physicians']\n",
    "    numLocationChoices = 1\n",
    "    return rn.choices(doctorLocationChoices,weights=doctorLocationFrequency,k=numLocationChoices)[0] # choices returns a list\n",
    "\n",
    "# selector - determines practice type basd on US national distribution\n",
    "# https://www.ama-assn.org/about/research/physician-practice-benchmark-survey\n",
    "def PracticeTypeSelector():\n",
    "    practiceTypeChoices = ['Solo','Group - Single Specialty','Group - Multi-specialty','Employed Physician']\n",
    "    practiceTypeFrequency = [16,47,28,9]\n",
    "    numDrChoices = 1\n",
    "    return rn.choices(practiceTypeChoices,weights=practiceTypeFrequency,k=numDrChoices)[0]\n",
    "\n",
    "# selector - practice speciality\n",
    "# Guesses and approximations have been used to set what practice types can have what specialties\n",
    "# Guesses have been used to determine what ratio each specialty type appears in compared to the others\n",
    "\"\"\"\n",
    "Solo - Family, Internal, Orthopedic, General Surgery\n",
    "Single Specialty - 'Emergency','Family','Internal','Orthopedic','Oncology', 'General Surgery', Endocrinology', 'Cardiology','Gastroenterology','Pulmonology', 'Ambulatory' \n",
    "Multi - Spec - 'Internal','Orthopedic','Oncology', 'General Surgery', Endocrinology', 'Cardiology','Gastroenterology','Pulmonology', 'Ambulatory'\n",
    "Employed Phys - 'Emergency','Internal','Orthopedic','Oncology', 'General Surgery', 'Endocrinology', 'Cardiology','Gastroenterology','Pulmonology', 'Ambulatory'\n",
    "\"\"\"\n",
    "def PracticeSpecialtySelector(pracType):\n",
    "    if pracType == 'Solo':\n",
    "        selectFrom = ['Family', 'Internal', 'Orthopedic', 'General Surgery']\n",
    "        selectFromWts = [35,25,20,20]\n",
    "        \n",
    "    elif pracType == 'Group - Single Specialty':\n",
    "        selectFrom = ['Emergency','Family','Internal','Orthopedic','Oncology', 'General Surgery',\n",
    "                      'Endocrinology', 'Cardiology','Gastroenterology','Pulmonology', 'Ambulatory']\n",
    "        selectFromWts = [8,12,6,4,4,10,3,4,5,4,9]\n",
    "\n",
    "    elif pracType == 'Group - Multi-specialty':\n",
    "        selectFrom = ['Internal','Orthopedic','Oncology', 'General Surgery', 'Endocrinology',\n",
    "                      'Cardiology','Gastroenterology','Pulmonology', 'Ambulatory']\n",
    "        selectFromWts = [12,11,7,14,6,7,4,6,11]\n",
    "        \n",
    "    else: \n",
    "        selectFrom = ['Emergency','Internal','Orthopedic','Oncology', 'General Surgery', 'Endocrinology',\n",
    "                      'Cardiology','Gastroenterology','Pulmonology', 'Ambulatory']\n",
    "        selectFromWts = [11,10,9,3,14,5,9,7,7,10]\n",
    "       \n",
    "    specialtyChoice = rn.choices(selectFrom,weights=selectFromWts,k=1)[0]\n",
    "    return specialtyChoice\n",
    "\n",
    "# made-up shit: uses made-up (fictitious!!) factor based on practice type and doctor/patient ratio to determine # visitors\n",
    "def PracticeSizeSelector(locn,pracType):\n",
    "    typeFactor = {'Solo':1,'Group - Single Specialty':3,'Group - Multi-specialty':6,'Employed Physician':18}\n",
    "    locFactor = dfDrByState2.loc[locn][2]\n",
    "    return typeFactor[pracType] * locFactor\n",
    "\n",
    "# https://www.kff.org/other/state-indicator/total-population\n",
    "# determines what patient coverages are for practice based on state data\n",
    "# returns medicare%\n",
    "def CoverageSelector(locn):\n",
    "    return dfCoverageByState.loc[locn][3]\n",
    "\n",
    "# selector - made up shit: how many medical society dinners a Dr attends is indicative of how likely they are to prescribe Drug X\n",
    "def SocietyDinners():\n",
    "    lower = 0\n",
    "    upper= 5\n",
    "    return rn.randint(lower,upper)\n",
    "\n",
    "# selector - made up shit: how many CME events a Dr attends is indicative of how likely they are to prescribe Drug X\n",
    "def ContinuingMedEd():\n",
    "    lower = 0\n",
    "    upper= 3\n",
    "    return rn.randint(lower,upper)\n",
    "\n",
    "# selector - made up shit: difference in how many prescriptions a Dr writes is a sucess measure for marketing Drug X\n",
    "def ScriptsWritten():\n",
    "    lower = 0\n",
    "    upper= 50\n",
    "    return rn.randint(lower,upper)\n",
    "\n",
    "# selector - made up shit: how many times Dr visits web page is indicative of how likely they are to prescribe Drug X\n",
    "def WebViews():\n",
    "    lower = 0\n",
    "    upper= 5\n",
    "    return rn.randint(lower,upper)\n",
    "\n",
    "# selector - made up shit: how many branded e-mails a Dr opens is indicative of how likely they are to prescribe Drug X\n",
    "def BrandedEMopenRate():\n",
    "    return rn.random()\n",
    "\n",
    "# selector - made up shit: how many times Dr is contacted by Drug X rep is indicative of how likely they are to prescribe Drug X\n",
    "def RepTouches():\n",
    "    lower = 0\n",
    "    upper= 3\n",
    "    return rn.randint(lower,upper)"
   ]
  },
  {
   "cell_type": "code",
   "execution_count": 42,
   "metadata": {},
   "outputs": [],
   "source": [
    "# dummy table value populator\n",
    "\n",
    "# create empty lists/series for each variable\n",
    "# start for (each Doctor) loop\n",
    "# generate a value for each variable for 1 Doctor\n",
    "# Do next Doctor\n",
    "# merge lists to form Dataframe\n",
    "\n",
    "numDoctors = 5\n",
    "\n",
    "doctorAges = []\n",
    "doctorGenders = []\n",
    "doctorLocations = []\n",
    "practiceTypes = []\n",
    "practiceSpecialties = []\n",
    "practiceSizes = []\n",
    "practiceInsCoverage = []\n",
    "societyDinners = []\n",
    "cmeCount = []\n",
    "scriptCount = []\n",
    "webViewCount = []\n",
    "emailOpenRates = []\n",
    "repTouchCounts = []\n",
    "\n",
    "for dr in range(0,numDoctors):\n",
    "    location = None\n",
    "    practiceType = None\n",
    "    practiceSize = 0\n",
    "    \n",
    "    doctorAges.append(DrAge())\n",
    "    doctorGenders.append(DrGender())\n",
    "    \n",
    "    location = DrLocationSelector()\n",
    "    doctorLocations.append(location)\n",
    "    \n",
    "    practiceType = PracticeTypeSelector()\n",
    "    practiceTypes.append(practiceType)\n",
    "    \n",
    "    practiceSpecialty = PracticeSpecialtySelector(practiceType)\n",
    "    practiceSpecialties.append(practiceSpecialty)\n",
    "    \n",
    "    practiceSize = PracticeSizeSelector(location,practiceType)\n",
    "    practiceSizes.append(practiceSize)\n",
    "    \n",
    "    practiceInsCoverage.append(CoverageSelector(location))\n",
    "    societyDinners.append(SocietyDinners())\n",
    "    cmeCount.append(ContinuingMedEd())\n",
    "    scriptCount.append(ScriptsWritten())\n",
    "    webViewCount.append(WebViews())\n",
    "    emailOpenRates.append(BrandedEMopenRate())\n",
    "    repTouchCounts.append(RepTouches())"
   ]
  },
  {
   "cell_type": "code",
   "execution_count": 43,
   "metadata": {},
   "outputs": [
    {
     "name": "stdout",
     "output_type": "stream",
     "text": [
      "[64, 35, 41, 34, 55]\n"
     ]
    }
   ],
   "source": [
    "print(doctorAges)"
   ]
  },
  {
   "cell_type": "code",
   "execution_count": 44,
   "metadata": {},
   "outputs": [],
   "source": [
    "# make empty DF\n",
    "dfDrDataSet1 = pd.DataFrame()"
   ]
  },
  {
   "cell_type": "code",
   "execution_count": 45,
   "metadata": {},
   "outputs": [],
   "source": [
    "# populate empty DF with values from dummy generator\n",
    "dfDrDataSet1['Age'] = doctorAges\n",
    "dfDrDataSet1['Gender'] = doctorGenders\n",
    "dfDrDataSet1['Location'] = doctorLocations\n",
    "dfDrDataSet1['Prac Type'] = practiceTypes\n",
    "dfDrDataSet1['Specialty'] = practiceSpecialties\n",
    "dfDrDataSet1['Prac Size'] = practiceSizes\n",
    "dfDrDataSet1['Medicare'] = practiceInsCoverage\n",
    "dfDrDataSet1['Soc Dinners'] = societyDinners\n",
    "dfDrDataSet1['CMEs'] = cmeCount\n",
    "dfDrDataSet1['Scripts'] = scriptCount\n",
    "dfDrDataSet1['Web views'] = webViewCount\n",
    "dfDrDataSet1['e-m opens'] = emailOpenRates\n",
    "dfDrDataSet1['Rep touches'] = repTouchCounts"
   ]
  },
  {
   "cell_type": "code",
   "execution_count": 46,
   "metadata": {},
   "outputs": [
    {
     "data": {
      "text/html": [
       "<div>\n",
       "<style scoped>\n",
       "    .dataframe tbody tr th:only-of-type {\n",
       "        vertical-align: middle;\n",
       "    }\n",
       "\n",
       "    .dataframe tbody tr th {\n",
       "        vertical-align: top;\n",
       "    }\n",
       "\n",
       "    .dataframe thead th {\n",
       "        text-align: right;\n",
       "    }\n",
       "</style>\n",
       "<table border=\"1\" class=\"dataframe\">\n",
       "  <thead>\n",
       "    <tr style=\"text-align: right;\">\n",
       "      <th></th>\n",
       "      <th>Age</th>\n",
       "      <th>Gender</th>\n",
       "      <th>Location</th>\n",
       "      <th>Prac Type</th>\n",
       "      <th>Specialty</th>\n",
       "      <th>Prac Size</th>\n",
       "      <th>Medicare</th>\n",
       "      <th>Soc Dinners</th>\n",
       "      <th>CMEs</th>\n",
       "      <th>Scripts</th>\n",
       "      <th>Web views</th>\n",
       "      <th>e-m opens</th>\n",
       "      <th>Rep touches</th>\n",
       "    </tr>\n",
       "  </thead>\n",
       "  <tbody>\n",
       "    <tr>\n",
       "      <th>0</th>\n",
       "      <td>64</td>\n",
       "      <td>Female</td>\n",
       "      <td>PA</td>\n",
       "      <td>Group - Multi-specialty</td>\n",
       "      <td>Internal</td>\n",
       "      <td>2646</td>\n",
       "      <td>0.16</td>\n",
       "      <td>3</td>\n",
       "      <td>3</td>\n",
       "      <td>8</td>\n",
       "      <td>3</td>\n",
       "      <td>0.208841</td>\n",
       "      <td>1</td>\n",
       "    </tr>\n",
       "    <tr>\n",
       "      <th>1</th>\n",
       "      <td>35</td>\n",
       "      <td>Female</td>\n",
       "      <td>AL</td>\n",
       "      <td>Group - Single Specialty</td>\n",
       "      <td>Family</td>\n",
       "      <td>984</td>\n",
       "      <td>0.16</td>\n",
       "      <td>1</td>\n",
       "      <td>1</td>\n",
       "      <td>27</td>\n",
       "      <td>4</td>\n",
       "      <td>0.730639</td>\n",
       "      <td>1</td>\n",
       "    </tr>\n",
       "    <tr>\n",
       "      <th>2</th>\n",
       "      <td>41</td>\n",
       "      <td>Female</td>\n",
       "      <td>MO</td>\n",
       "      <td>Group - Single Specialty</td>\n",
       "      <td>General Surgery</td>\n",
       "      <td>1269</td>\n",
       "      <td>0.16</td>\n",
       "      <td>4</td>\n",
       "      <td>3</td>\n",
       "      <td>42</td>\n",
       "      <td>1</td>\n",
       "      <td>0.281868</td>\n",
       "      <td>2</td>\n",
       "    </tr>\n",
       "    <tr>\n",
       "      <th>3</th>\n",
       "      <td>34</td>\n",
       "      <td>Male</td>\n",
       "      <td>MO</td>\n",
       "      <td>Group - Multi-specialty</td>\n",
       "      <td>Oncology</td>\n",
       "      <td>2538</td>\n",
       "      <td>0.16</td>\n",
       "      <td>3</td>\n",
       "      <td>1</td>\n",
       "      <td>27</td>\n",
       "      <td>5</td>\n",
       "      <td>0.253925</td>\n",
       "      <td>3</td>\n",
       "    </tr>\n",
       "    <tr>\n",
       "      <th>4</th>\n",
       "      <td>55</td>\n",
       "      <td>Male</td>\n",
       "      <td>KY</td>\n",
       "      <td>Group - Single Specialty</td>\n",
       "      <td>Cardiology</td>\n",
       "      <td>1254</td>\n",
       "      <td>0.15</td>\n",
       "      <td>2</td>\n",
       "      <td>3</td>\n",
       "      <td>42</td>\n",
       "      <td>4</td>\n",
       "      <td>0.345231</td>\n",
       "      <td>2</td>\n",
       "    </tr>\n",
       "  </tbody>\n",
       "</table>\n",
       "</div>"
      ],
      "text/plain": [
       "   Age  Gender Location                 Prac Type        Specialty  Prac Size  \\\n",
       "0   64  Female       PA   Group - Multi-specialty         Internal       2646   \n",
       "1   35  Female       AL  Group - Single Specialty           Family        984   \n",
       "2   41  Female       MO  Group - Single Specialty  General Surgery       1269   \n",
       "3   34    Male       MO   Group - Multi-specialty         Oncology       2538   \n",
       "4   55    Male       KY  Group - Single Specialty       Cardiology       1254   \n",
       "\n",
       "   Medicare  Soc Dinners  CMEs  Scripts  Web views  e-m opens  Rep touches  \n",
       "0      0.16            3     3        8          3   0.208841            1  \n",
       "1      0.16            1     1       27          4   0.730639            1  \n",
       "2      0.16            4     3       42          1   0.281868            2  \n",
       "3      0.16            3     1       27          5   0.253925            3  \n",
       "4      0.15            2     3       42          4   0.345231            2  "
      ]
     },
     "execution_count": 46,
     "metadata": {},
     "output_type": "execute_result"
    }
   ],
   "source": [
    "dfDrDataSet1"
   ]
  },
  {
   "cell_type": "code",
   "execution_count": null,
   "metadata": {},
   "outputs": [],
   "source": [
    "# order in which to select variables:\n",
    "# location\n",
    "# practice type\n",
    "# practice specialty\n",
    "# practice size\n",
    "# Medicare coverage"
   ]
  },
  {
   "cell_type": "code",
   "execution_count": 23,
   "metadata": {},
   "outputs": [
    {
     "name": "stdout",
     "output_type": "stream",
     "text": [
      "MN\n"
     ]
    }
   ],
   "source": [
    "location = DrLocationSelector()\n",
    "print(location)"
   ]
  },
  {
   "cell_type": "code",
   "execution_count": 26,
   "metadata": {},
   "outputs": [
    {
     "name": "stdout",
     "output_type": "stream",
     "text": [
      "Group - Multi-specialty\n"
     ]
    }
   ],
   "source": [
    "practiceType = PracticeTypeSelector()\n",
    "print(practiceType)"
   ]
  },
  {
   "cell_type": "code",
   "execution_count": 28,
   "metadata": {},
   "outputs": [
    {
     "name": "stdout",
     "output_type": "stream",
     "text": [
      "Ambulatory\n"
     ]
    }
   ],
   "source": [
    "practiceSpecialty = PracticeSpecialtySelector(practiceType)\n",
    "print(practiceSpecialty)"
   ]
  },
  {
   "cell_type": "code",
   "execution_count": 29,
   "metadata": {},
   "outputs": [
    {
     "name": "stdout",
     "output_type": "stream",
     "text": [
      "2556\n"
     ]
    }
   ],
   "source": [
    "practiceSize = PracticeSizeSelector(location,practiceType)\n",
    "print(practiceSize)"
   ]
  },
  {
   "cell_type": "code",
   "execution_count": 36,
   "metadata": {},
   "outputs": [
    {
     "name": "stdout",
     "output_type": "stream",
     "text": [
      "0.14\n"
     ]
    }
   ],
   "source": [
    "coverage = CoverageSelector(location)\n",
    "print(coverage)"
   ]
  },
  {
   "cell_type": "code",
   "execution_count": null,
   "metadata": {},
   "outputs": [],
   "source": []
  }
 ],
 "metadata": {
  "kernelspec": {
   "display_name": "Python 3",
   "language": "python",
   "name": "python3"
  },
  "language_info": {
   "codemirror_mode": {
    "name": "ipython",
    "version": 3
   },
   "file_extension": ".py",
   "mimetype": "text/x-python",
   "name": "python",
   "nbconvert_exporter": "python",
   "pygments_lexer": "ipython3",
   "version": "3.6.5"
  }
 },
 "nbformat": 4,
 "nbformat_minor": 2
}
