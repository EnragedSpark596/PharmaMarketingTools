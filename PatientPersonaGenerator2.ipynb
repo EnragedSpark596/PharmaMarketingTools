{
 "cells": [
  {
   "cell_type": "code",
   "execution_count": 1,
   "metadata": {},
   "outputs": [],
   "source": [
    "import random\n",
    "import numpy as np\n",
    "from numpy.random import choice\n",
    "from pandas import Series, DataFrame\n",
    "import pandas as pd\n",
    "import string"
   ]
  },
  {
   "cell_type": "code",
   "execution_count": 2,
   "metadata": {},
   "outputs": [],
   "source": [
    "# Disease module\n",
    "# https://acpinternist.org/archives/2011/10/CVD.htm\n",
    "resp_diseases = ['emphysema', 'asthma','bronchitis'] # chronic only\n",
    "acute_resp = ['influenza','sinusitis','rhinitis']\n",
    "circ_diseases = [\n",
    "    'diabetes','coronary artery disease','cerebrovascular disease','peripheral arterial disease (PAD)',\n",
    "    'congestive heart failure','chronic kidney disease','chronic kidney disease','dyslipidemia','hypertension',\n",
    "    'angina pectoris'\n",
    "]\n",
    "# https://www.newenglandnightingales.com/home-care-in-canton-ct-5-causes-mobility-impairment-seniors/\n",
    "amb_diseases = ['arthritis','fibromyalgia',\"Parkinson's Disease\",'osteoporosis','hip/knee-replacement (recovery)']\n",
    "cogImp_diseases = [\"Alzheimer's Disease\",'dementia','macular degeneration']\n",
    "\n",
    "# Cancer risk\n",
    "# https://pandas.pydata.org/pandas-docs/stable/reference/api/pandas.read_csv.html\n",
    "# https://stackoverflow.com/questions/19103624/load-csv-to-pandas-multiindex-dataframe\n",
    "# https://www.google.com/search?q=cancer+incidence+rate+by+type+age+gender&rlz=1C1CHBF_enUS803US805&oq=cancer+incidence+rate+by+type+age+gender&aqs=chrome..69i57.13839j0j8&sourceid=chrome&ie=UTF-8\n",
    "filepath = 'CancerData.csv'\n",
    "dfC = pd.read_csv(filepath, sep=',',index_col=[0,1])\n",
    "dfC2=dfC.reorder_levels(('Gender','Affected area'), axis=0)\n",
    "dfC_male = dfC2.loc['Male'].drop('All sites',axis=0).drop('Breast',axis=0).drop('Uterine cervix',axis=0).drop('Uterine corpus',axis=0)\n",
    "dfC_female = dfC2.loc['Female'].drop('All sites',axis=0).drop('Prostate',axis=0)"
   ]
  },
  {
   "cell_type": "code",
   "execution_count": 3,
   "metadata": {},
   "outputs": [],
   "source": [
    "class Patient(object):\n",
    "    def __init__(self,name,gender):\n",
    "        # basic personal data\n",
    "        self.name = name\n",
    "        self.gender = gender.lower()\n",
    "        age = random.randint(65,85)\n",
    "        self.age = age\n",
    "        \n",
    "        # respiratory diseases\n",
    "        patient_resp = random.choice(resp_diseases)\n",
    "        self.resp_disease = patient_resp\n",
    "\n",
    "        # circulatory diseases\n",
    "        k_circ = random.randint(1, 4)\n",
    "        patient_circ = list(random.sample(circ_diseases, k_circ))\n",
    "        self.circ_disease = patient_circ\n",
    "\n",
    "        # ambulatory diseases\n",
    "        k_amb = random.randint(1, 2)\n",
    "        patient_amb = list(random.sample(amb_diseases, k_amb))\n",
    "        self.amb_disease = patient_amb\n",
    "\n",
    "        # cognitive impairment diseases\n",
    "        k_cogImp = random.randint(0, 2)\n",
    "        patient_cogImp = list(random.sample(cogImp_diseases, k_cogImp))\n",
    "        self.cogImp_disease = patient_cogImp\n",
    "        \n",
    "        # https://stackoverflow.com/questions/3679694/a-weighted-version-of-random-choice\n",
    "        #smoker y/n? https://www.ncbi.nlm.nih.gov/pmc/articles/PMC3771341/ 8.3%\n",
    "        patient_smokesYN = choice(['smoker','non-smoker'], 1, p=[0.083,0.917])\n",
    "        self.smokerYN = patient_smokesYN\n",
    "        \n",
    "        #drinker y/n? https://www.niaaa.nih.gov/alcohol-health/special-populations-co-occurring-disorders/older-adults 40%\n",
    "        patient_drinksYN = choice(['drinker','non-drinker'], 1, p=[0.4,0.6])\n",
    "        self.drinkerYN = patient_drinksYN\n",
    "        \n",
    "        # Cancer risk\n",
    "        # https://surveillance.cancer.gov/statistics/types/prevalence.html\n",
    "        # https://www.cdc.gov/cancer/uscs/\n",
    "        # https://www.cancer.org/content/dam/cancer-org/research/cancer-facts-and-statistics/annual-cancer-facts-and-figures/2017/cancer-facts-and-figures-2017.pdf\n",
    "        \n",
    "        # step 1 -  find age bracket\n",
    "        if self.age <= 49:\n",
    "            age_bucket = '0 - 49'\n",
    "        elif 49 < self.age <= 59:\n",
    "            age_bucket = '50 - 59'\n",
    "        elif 59 < self.age <= 69:\n",
    "            age_bucket = '60 - 69'\n",
    "        else:\n",
    "            age_bucket = '70 - 99'\n",
    "        self.age_bucket = age_bucket\n",
    "\n",
    "        #step 2 - select gender set\n",
    "        if self.gender == 'male':\n",
    "            stats = dict(dfC_male[age_bucket])\n",
    "        else:\n",
    "            stats = dict(dfC_female[age_bucket])\n",
    "        #step 3 - test for cancer\n",
    "        patient_stat = {}\n",
    "        keys = list(stats.keys())\n",
    "        values = []\n",
    "        for key in keys:\n",
    "            v = choice(['yes','no'], 1, p=[stats[key],(1-stats[key])])\n",
    "            values.append(v[0])\n",
    "        patient_stat = dict(zip(keys,values))\n",
    "        if 'yes' in values:\n",
    "            self.cancer = patient_stat.keys()[patient_stat.values().index('yes')]\n",
    "        else:\n",
    "            self.cancer = 'None'\n",
    "    \n",
    "    def JSONify_stats(self):\n",
    "        pass\n",
    "        \n",
    "    def print_stats(self):\n",
    "        print('%s is a %s, aged %s, with these respiratory diseases:%s' %(self.name,self.gender,self.age,self.resp_disease))\n",
    "        print('%s also suffers from %s, %s and %s' %(self.name,self.circ_disease,self.amb_disease,self.cogImp_disease))\n",
    "        print('%s has also been diagnosed with the following cancer: %s' %(self.name,self.cancer))"
   ]
  },
  {
   "cell_type": "code",
   "execution_count": 4,
   "metadata": {},
   "outputs": [
    {
     "name": "stdout",
     "output_type": "stream",
     "text": [
      "Dave is a male, aged 68, with these respiratory diseases:bronchitis\n",
      "Dave also suffers from ['congestive heart failure'], [\"Parkinson's Disease\", 'hip/knee-replacement (recovery)'] and []\n",
      "Dave has also been diagnosed with the following cancer: None\n"
     ]
    }
   ],
   "source": [
    "p1 = Patient('Dave','male')\n",
    "p1.print_stats()"
   ]
  },
  {
   "cell_type": "code",
   "execution_count": 5,
   "metadata": {},
   "outputs": [
    {
     "name": "stdout",
     "output_type": "stream",
     "text": [
      "Karen is a female, aged 85, with these respiratory diseases:bronchitis\n",
      "Karen also suffers from ['hypertension', 'chronic kidney disease', 'chronic kidney disease'], [\"Parkinson's Disease\"] and []\n",
      "Karen has also been diagnosed with the following cancer: None\n"
     ]
    }
   ],
   "source": [
    "p2 = Patient('Karen','female')\n",
    "p2.print_stats()"
   ]
  },
  {
   "cell_type": "code",
   "execution_count": null,
   "metadata": {},
   "outputs": [],
   "source": []
  }
 ],
 "metadata": {
  "kernelspec": {
   "display_name": "Python 3",
   "language": "python",
   "name": "python3"
  },
  "language_info": {
   "codemirror_mode": {
    "name": "ipython",
    "version": 3
   },
   "file_extension": ".py",
   "mimetype": "text/x-python",
   "name": "python",
   "nbconvert_exporter": "python",
   "pygments_lexer": "ipython3",
   "version": "3.6.5"
  }
 },
 "nbformat": 4,
 "nbformat_minor": 2
}
